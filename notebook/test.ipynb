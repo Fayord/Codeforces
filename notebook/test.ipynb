{
 "cells": [
  {
   "cell_type": "code",
   "execution_count": 2,
   "metadata": {},
   "outputs": [],
   "source": [
    "a_list = [1, 2, 3, 4]"
   ]
  },
  {
   "cell_type": "code",
   "execution_count": 5,
   "metadata": {},
   "outputs": [],
   "source": [
    "# delete 0 value\n",
    "a_list = [x for x in a_list if x != 0]"
   ]
  },
  {
   "cell_type": "code",
   "execution_count": 4,
   "metadata": {},
   "outputs": [
    {
     "data": {
      "text/plain": [
       "[1, 3, 4]"
      ]
     },
     "execution_count": 4,
     "metadata": {},
     "output_type": "execute_result"
    }
   ],
   "source": [
    "a_list"
   ]
  },
  {
   "cell_type": "code",
   "execution_count": 3,
   "metadata": {},
   "outputs": [
    {
     "name": "stdout",
     "output_type": "stream",
     "text": [
      "[1, 1, 0, 0, 0, 0, 0, 0, 0, 0, 0]\n",
      "[1, 1, 1, 0, 0, 0, 0, 0, 0, 0, 0]\n",
      "[1, 1, 1, 1, 0, 0, 0, 0, 0, 0, 0]\n",
      "[1, 1, 1, 1, 1, 0, 0, 0, 0, 0, 0]\n",
      "[1, 1, 1, 1, 1, 1, 0, 0, 0, 0, 0]\n",
      "[1, 1, 1, 1, 1, 1, 1, 0, 0, 0, 0]\n",
      "[1, 1, 1, 1, 1, 1, 1, 1, 0, 0, 0]\n",
      "[1, 1, 1, 1, 1, 1, 1, 1, 1, 0, 0]\n",
      "[1, 1, 1, 1, 1, 1, 1, 1, 1, 1, 0]\n",
      "[1, 1, 1, 1, 1, 1, 1, 1, 1, 1, 1]\n",
      "[1, 1, 1, 1, 1, 1, 1, 1, 1, 1, 1]\n",
      "[1, 1, 2, 1, 1, 1, 1, 1, 1, 1, 1]\n",
      "[1, 1, 2, 2, 1, 1, 1, 1, 1, 1, 1]\n",
      "[1, 1, 2, 2, 3, 1, 1, 1, 1, 1, 1]\n",
      "[1, 1, 2, 2, 3, 3, 1, 1, 1, 1, 1]\n",
      "[1, 1, 2, 2, 3, 3, 4, 1, 1, 1, 1]\n",
      "[1, 1, 2, 2, 3, 3, 4, 4, 1, 1, 1]\n",
      "[1, 1, 2, 2, 3, 3, 4, 4, 5, 1, 1]\n",
      "[1, 1, 2, 2, 3, 3, 4, 4, 5, 5, 1]\n",
      "[1, 1, 2, 2, 3, 3, 4, 4, 5, 5, 6]\n",
      "[1, 1, 2, 2, 3, 3, 4, 4, 5, 5, 6]\n",
      "[1, 1, 2, 2, 3, 4, 4, 4, 5, 5, 6]\n",
      "[1, 1, 2, 2, 3, 4, 5, 4, 5, 5, 6]\n",
      "[1, 1, 2, 2, 3, 4, 5, 6, 5, 5, 6]\n",
      "[1, 1, 2, 2, 3, 4, 5, 6, 7, 5, 6]\n",
      "[1, 1, 2, 2, 3, 4, 5, 6, 7, 8, 6]\n",
      "[1, 1, 2, 2, 3, 4, 5, 6, 7, 8, 10]\n",
      "[1, 1, 2, 2, 3, 4, 5, 6, 7, 8, 10]\n",
      "Number of ways to make change: 10\n"
     ]
    }
   ],
   "source": [
    "def coin_change_ways(coins, target):\n",
    "    # Initialize a list to store the number of ways to make change for each amount\n",
    "    dp = [0] * (target + 1)\n",
    "    # There's one way to make change for 0 amount\n",
    "    dp[0] = 1\n",
    "\n",
    "    # Iterate over each coin denomination\n",
    "    for coin in coins:\n",
    "        # Update dp array for each amount from coin to target\n",
    "        for amount in range(coin, target + 1):\n",
    "            dp[amount] += dp[amount - coin]\n",
    "            print(dp)\n",
    "        print(dp)\n",
    "    # Return the number of ways to make change for the target amount\n",
    "    return dp[target]\n",
    "\n",
    "\n",
    "# Example usage:\n",
    "coins = [1, 2, 5]\n",
    "target = 10\n",
    "print(\"Number of ways to make change:\", coin_change_ways(coins, target))"
   ]
  },
  {
   "cell_type": "code",
   "execution_count": 5,
   "metadata": {},
   "outputs": [
    {
     "name": "stdout",
     "output_type": "stream",
     "text": [
      "[[1, 4, 5], [2, 7, 6], [6, 8, 7]]\n",
      "Minimum path sum: 7\n"
     ]
    }
   ],
   "source": [
    "def min_path_sum(grid):\n",
    "    m = len(grid)\n",
    "    n = len(grid[0])\n",
    "\n",
    "    # Initialize dp matrix\n",
    "    dp = [[0] * n for _ in range(m)]\n",
    "    dp[0][0] = grid[0][0]\n",
    "\n",
    "    # Fill the first row\n",
    "    for j in range(1, n):\n",
    "        dp[0][j] = dp[0][j - 1] + grid[0][j]\n",
    "\n",
    "    # Fill the first column\n",
    "    for i in range(1, m):\n",
    "        dp[i][0] = dp[i - 1][0] + grid[i][0]\n",
    "\n",
    "    # Fill the rest of the dp matrix\n",
    "    for i in range(1, m):\n",
    "        for j in range(1, n):\n",
    "            dp[i][j] = min(dp[i - 1][j], dp[i][j - 1]) + grid[i][j]\n",
    "    print(dp)\n",
    "    return dp[m - 1][n - 1]\n",
    "\n",
    "\n",
    "# Example usage:\n",
    "grid = [\n",
    "    [1, 3, 1],\n",
    "    [1, 5, 1],\n",
    "    [4, 2, 1],\n",
    "]\n",
    "print(\"Minimum path sum:\", min_path_sum(grid))"
   ]
  },
  {
   "cell_type": "code",
   "execution_count": 1,
   "metadata": {},
   "outputs": [
    {
     "ename": "Exception",
     "evalue": "[12, 23]",
     "output_type": "error",
     "traceback": [
      "\u001b[0;31m---------------------------------------------------------------------------\u001b[0m",
      "\u001b[0;31mException\u001b[0m                                 Traceback (most recent call last)",
      "Cell \u001b[0;32mIn[1], line 1\u001b[0m\n\u001b[0;32m----> 1\u001b[0m \u001b[38;5;28;01mraise\u001b[39;00m \u001b[38;5;167;01mException\u001b[39;00m([\u001b[38;5;241m12\u001b[39m,\u001b[38;5;241m23\u001b[39m])\n",
      "\u001b[0;31mException\u001b[0m: [12, 23]"
     ]
    }
   ],
   "source": [
    "raise Exception([12, 23])"
   ]
  },
  {
   "cell_type": "code",
   "execution_count": 2,
   "metadata": {},
   "outputs": [
    {
     "data": {
      "text/plain": [
       "('/usr/local/bin/python',\n",
       " '-m',\n",
       " 'dagster',\n",
       " 'api',\n",
       " 'grpc',\n",
       " '--lazy-load-user-code',\n",
       " '--socket',\n",
       " '/tmp/tmphxawjc2a',\n",
       " '--heartbeat',\n",
       " '--heartbeat-timeout',\n",
       " '45',\n",
       " '--fixed-server-id',\n",
       " 'e237b638-2b12-4968-af82-1c60c49c765d',\n",
       " '--log-level',\n",
       " 'info',\n",
       " '--inject-env-vars-from-instance',\n",
       " '--instance-ref',\n",
       " '{\"__class__\": \"InstanceRef\", \"compute_logs_data\": {\"__class__\": \"ConfigurableClassData\", \"class_name\": \"LocalComputeLogManager\", \"config_yaml\": \"base_dir: /opt/dagster/dagster_home/storage\\\\n\", \"module_name\": \"dagster.core.storage.local_compute_log_manager\"}, \"custom_instance_class_data\": null, \"event_storage_data\": {\"__class__\": \"ConfigurableClassData\", \"class_name\": \"PostgresEventLogStorage\", \"config_yaml\": \"postgres_db:\\\\n  db_name: dagster\\\\n  hostname: postgis\\\\n  password: postgres\\\\n  port: 5432\\\\n  username: postgres\\\\n\", \"module_name\": \"dagster_postgres\"}, \"local_artifact_storage_data\": {\"__class__\": \"ConfigurableClassData\", \"class_name\": \"LocalArtifactStorage\", \"config_yaml\": \"base_dir: /opt/dagster/local/\\\\n\", \"module_name\": \"dagster.core.storage.root\"}, \"run_coordinator_data\": {\"__class__\": \"ConfigurableClassData\", \"class_name\": \"QueuedRunCoordinator\", \"config_yaml\": \"max_concurrent_runs: 32\\\\ntag_concurrency_limits:\\\\n- key: concurrency_limit\\\\n  limit: 5\\\\n  value: \\'5\\'\\\\n\", \"module_name\": \"dagster.core.run_coordinator\"}, \"run_launcher_data\": {\"__class__\": \"ConfigurableClassData\", \"class_name\": \"DefaultRunLauncher\", \"config_yaml\": \"{}\\\\n\", \"module_name\": \"dagster\"}, \"run_storage_data\": {\"__class__\": \"ConfigurableClassData\", \"class_name\": \"PostgresRunStorage\", \"config_yaml\": \"postgres_db:\\\\n  db_name: dagster\\\\n  hostname: postgis\\\\n  password: postgres\\\\n  port: 5432\\\\n  username: postgres\\\\n\", \"module_name\": \"dagster_postgres\"}, \"schedule_storage_data\": {\"__class__\": \"ConfigurableClassData\", \"class_name\": \"PostgresScheduleStorage\", \"config_yaml\": \"postgres_db:\\\\n  db_name: dagster\\\\n  hostname: postgis\\\\n  password: postgres\\\\n  port: 5432\\\\n  username: postgres\\\\n\", \"module_name\": \"dagster_postgres\"}, \"scheduler_data\": {\"__class__\": \"ConfigurableClassData\", \"class_name\": \"DagsterDaemonScheduler\", \"config_yaml\": \"{}\\\\n\", \"module_name\": \"dagster.core.scheduler\"}, \"secrets_loader_data\": null, \"settings\": {\"telemetry\": {\"enabled\": false}}, \"storage_data\": {\"__class__\": \"ConfigurableClassData\", \"class_name\": \"DagsterPostgresStorage\", \"config_yaml\": \"postgres_db:\\\\n  db_name: dagster\\\\n  hostname: postgis\\\\n  password: postgres\\\\n  port: 5432\\\\n  username: postgres\\\\n\", \"module_name\": \"dagster_postgres\"}}',\n",
       " '--location-name',\n",
       " 'dagster_entry',\n",
       " '-m',\n",
       " 'dagster_entry')"
      ]
     },
     "execution_count": 2,
     "metadata": {},
     "output_type": "execute_result"
    }
   ],
   "source": [
    "\"/usr/local/bin/python\", \"-m\", \"dagster\", \"api\", \"grpc\", \"--lazy-load-user-code\", \"--socket\", \"/tmp/tmphxawjc2a\", \"--heartbeat\", \"--heartbeat-timeout\", \"45\", \"--fixed-server-id\", \"e237b638-2b12-4968-af82-1c60c49c765d\", \"--log-level\", \"info\", \"--inject-env-vars-from-instance\", \"--instance-ref\", '{\"__class__\": \"InstanceRef\", \"compute_logs_data\": {\"__class__\": \"ConfigurableClassData\", \"class_name\": \"LocalComputeLogManager\", \"config_yaml\": \"base_dir: /opt/dagster/dagster_home/storage\\\\n\", \"module_name\": \"dagster.core.storage.local_compute_log_manager\"}, \"custom_instance_class_data\": null, \"event_storage_data\": {\"__class__\": \"ConfigurableClassData\", \"class_name\": \"PostgresEventLogStorage\", \"config_yaml\": \"postgres_db:\\\\n  db_name: dagster\\\\n  hostname: postgis\\\\n  password: postgres\\\\n  port: 5432\\\\n  username: postgres\\\\n\", \"module_name\": \"dagster_postgres\"}, \"local_artifact_storage_data\": {\"__class__\": \"ConfigurableClassData\", \"class_name\": \"LocalArtifactStorage\", \"config_yaml\": \"base_dir: /opt/dagster/local/\\\\n\", \"module_name\": \"dagster.core.storage.root\"}, \"run_coordinator_data\": {\"__class__\": \"ConfigurableClassData\", \"class_name\": \"QueuedRunCoordinator\", \"config_yaml\": \"max_concurrent_runs: 32\\\\ntag_concurrency_limits:\\\\n- key: concurrency_limit\\\\n  limit: 5\\\\n  value: \\'5\\'\\\\n\", \"module_name\": \"dagster.core.run_coordinator\"}, \"run_launcher_data\": {\"__class__\": \"ConfigurableClassData\", \"class_name\": \"DefaultRunLauncher\", \"config_yaml\": \"{}\\\\n\", \"module_name\": \"dagster\"}, \"run_storage_data\": {\"__class__\": \"ConfigurableClassData\", \"class_name\": \"PostgresRunStorage\", \"config_yaml\": \"postgres_db:\\\\n  db_name: dagster\\\\n  hostname: postgis\\\\n  password: postgres\\\\n  port: 5432\\\\n  username: postgres\\\\n\", \"module_name\": \"dagster_postgres\"}, \"schedule_storage_data\": {\"__class__\": \"ConfigurableClassData\", \"class_name\": \"PostgresScheduleStorage\", \"config_yaml\": \"postgres_db:\\\\n  db_name: dagster\\\\n  hostname: postgis\\\\n  password: postgres\\\\n  port: 5432\\\\n  username: postgres\\\\n\", \"module_name\": \"dagster_postgres\"}, \"scheduler_data\": {\"__class__\": \"ConfigurableClassData\", \"class_name\": \"DagsterDaemonScheduler\", \"config_yaml\": \"{}\\\\n\", \"module_name\": \"dagster.core.scheduler\"}, \"secrets_loader_data\": null, \"settings\": {\"telemetry\": {\"enabled\": false}}, \"storage_data\": {\"__class__\": \"ConfigurableClassData\", \"class_name\": \"DagsterPostgresStorage\", \"config_yaml\": \"postgres_db:\\\\n  db_name: dagster\\\\n  hostname: postgis\\\\n  password: postgres\\\\n  port: 5432\\\\n  username: postgres\\\\n\", \"module_name\": \"dagster_postgres\"}}', \"--location-name\", \"dagster_entry\", \"-m\", \"dagster_entry\""
   ]
  },
  {
   "cell_type": "code",
   "execution_count": null,
   "metadata": {},
   "outputs": [],
   "source": []
  }
 ],
 "metadata": {
  "kernelspec": {
   "display_name": "Python 3",
   "language": "python",
   "name": "python3"
  },
  "language_info": {
   "codemirror_mode": {
    "name": "ipython",
    "version": 3
   },
   "file_extension": ".py",
   "mimetype": "text/x-python",
   "name": "python",
   "nbconvert_exporter": "python",
   "pygments_lexer": "ipython3",
   "version": "3.12.2"
  }
 },
 "nbformat": 4,
 "nbformat_minor": 2
}
