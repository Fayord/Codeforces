{
 "cells": [
  {
   "cell_type": "code",
   "execution_count": 2,
   "metadata": {},
   "outputs": [],
   "source": [
    "a_list = [1, 2, 3, 4]"
   ]
  },
  {
   "cell_type": "code",
   "execution_count": 5,
   "metadata": {},
   "outputs": [],
   "source": [
    "# delete 0 value\n",
    "a_list = [x for x in a_list if x != 0]"
   ]
  },
  {
   "cell_type": "code",
   "execution_count": 4,
   "metadata": {},
   "outputs": [
    {
     "data": {
      "text/plain": [
       "[1, 3, 4]"
      ]
     },
     "execution_count": 4,
     "metadata": {},
     "output_type": "execute_result"
    }
   ],
   "source": [
    "a_list"
   ]
  },
  {
   "cell_type": "code",
   "execution_count": 3,
   "metadata": {},
   "outputs": [
    {
     "name": "stdout",
     "output_type": "stream",
     "text": [
      "[1, 1, 0, 0, 0, 0, 0, 0, 0, 0, 0]\n",
      "[1, 1, 1, 0, 0, 0, 0, 0, 0, 0, 0]\n",
      "[1, 1, 1, 1, 0, 0, 0, 0, 0, 0, 0]\n",
      "[1, 1, 1, 1, 1, 0, 0, 0, 0, 0, 0]\n",
      "[1, 1, 1, 1, 1, 1, 0, 0, 0, 0, 0]\n",
      "[1, 1, 1, 1, 1, 1, 1, 0, 0, 0, 0]\n",
      "[1, 1, 1, 1, 1, 1, 1, 1, 0, 0, 0]\n",
      "[1, 1, 1, 1, 1, 1, 1, 1, 1, 0, 0]\n",
      "[1, 1, 1, 1, 1, 1, 1, 1, 1, 1, 0]\n",
      "[1, 1, 1, 1, 1, 1, 1, 1, 1, 1, 1]\n",
      "[1, 1, 1, 1, 1, 1, 1, 1, 1, 1, 1]\n",
      "[1, 1, 2, 1, 1, 1, 1, 1, 1, 1, 1]\n",
      "[1, 1, 2, 2, 1, 1, 1, 1, 1, 1, 1]\n",
      "[1, 1, 2, 2, 3, 1, 1, 1, 1, 1, 1]\n",
      "[1, 1, 2, 2, 3, 3, 1, 1, 1, 1, 1]\n",
      "[1, 1, 2, 2, 3, 3, 4, 1, 1, 1, 1]\n",
      "[1, 1, 2, 2, 3, 3, 4, 4, 1, 1, 1]\n",
      "[1, 1, 2, 2, 3, 3, 4, 4, 5, 1, 1]\n",
      "[1, 1, 2, 2, 3, 3, 4, 4, 5, 5, 1]\n",
      "[1, 1, 2, 2, 3, 3, 4, 4, 5, 5, 6]\n",
      "[1, 1, 2, 2, 3, 3, 4, 4, 5, 5, 6]\n",
      "[1, 1, 2, 2, 3, 4, 4, 4, 5, 5, 6]\n",
      "[1, 1, 2, 2, 3, 4, 5, 4, 5, 5, 6]\n",
      "[1, 1, 2, 2, 3, 4, 5, 6, 5, 5, 6]\n",
      "[1, 1, 2, 2, 3, 4, 5, 6, 7, 5, 6]\n",
      "[1, 1, 2, 2, 3, 4, 5, 6, 7, 8, 6]\n",
      "[1, 1, 2, 2, 3, 4, 5, 6, 7, 8, 10]\n",
      "[1, 1, 2, 2, 3, 4, 5, 6, 7, 8, 10]\n",
      "Number of ways to make change: 10\n"
     ]
    }
   ],
   "source": [
    "def coin_change_ways(coins, target):\n",
    "    # Initialize a list to store the number of ways to make change for each amount\n",
    "    dp = [0] * (target + 1)\n",
    "    # There's one way to make change for 0 amount\n",
    "    dp[0] = 1\n",
    "\n",
    "    # Iterate over each coin denomination\n",
    "    for coin in coins:\n",
    "        # Update dp array for each amount from coin to target\n",
    "        for amount in range(coin, target + 1):\n",
    "            dp[amount] += dp[amount - coin]\n",
    "            print(dp)\n",
    "        print(dp)\n",
    "    # Return the number of ways to make change for the target amount\n",
    "    return dp[target]\n",
    "\n",
    "\n",
    "# Example usage:\n",
    "coins = [1, 2, 5]\n",
    "target = 10\n",
    "print(\"Number of ways to make change:\", coin_change_ways(coins, target))"
   ]
  },
  {
   "cell_type": "code",
   "execution_count": 5,
   "metadata": {},
   "outputs": [
    {
     "name": "stdout",
     "output_type": "stream",
     "text": [
      "[[1, 4, 5], [2, 7, 6], [6, 8, 7]]\n",
      "Minimum path sum: 7\n"
     ]
    }
   ],
   "source": [
    "def min_path_sum(grid):\n",
    "    m = len(grid)\n",
    "    n = len(grid[0])\n",
    "\n",
    "    # Initialize dp matrix\n",
    "    dp = [[0] * n for _ in range(m)]\n",
    "    dp[0][0] = grid[0][0]\n",
    "\n",
    "    # Fill the first row\n",
    "    for j in range(1, n):\n",
    "        dp[0][j] = dp[0][j - 1] + grid[0][j]\n",
    "\n",
    "    # Fill the first column\n",
    "    for i in range(1, m):\n",
    "        dp[i][0] = dp[i - 1][0] + grid[i][0]\n",
    "\n",
    "    # Fill the rest of the dp matrix\n",
    "    for i in range(1, m):\n",
    "        for j in range(1, n):\n",
    "            dp[i][j] = min(dp[i - 1][j], dp[i][j - 1]) + grid[i][j]\n",
    "    print(dp)\n",
    "    return dp[m - 1][n - 1]\n",
    "\n",
    "\n",
    "# Example usage:\n",
    "grid = [\n",
    "    [1, 3, 1],\n",
    "    [1, 5, 1],\n",
    "    [4, 2, 1],\n",
    "]\n",
    "print(\"Minimum path sum:\", min_path_sum(grid))"
   ]
  },
  {
   "cell_type": "code",
   "execution_count": null,
   "metadata": {},
   "outputs": [],
   "source": []
  }
 ],
 "metadata": {
  "kernelspec": {
   "display_name": "Python 3",
   "language": "python",
   "name": "python3"
  },
  "language_info": {
   "codemirror_mode": {
    "name": "ipython",
    "version": 3
   },
   "file_extension": ".py",
   "mimetype": "text/x-python",
   "name": "python",
   "nbconvert_exporter": "python",
   "pygments_lexer": "ipython3",
   "version": "3.10.13"
  }
 },
 "nbformat": 4,
 "nbformat_minor": 2
}
